{
 "cells": [
  {
   "cell_type": "markdown",
   "metadata": {},
   "source": [
    "# Data from the Mental Rotation Experiment\n"
   ]
  },
  {
   "cell_type": "markdown",
   "metadata": {},
   "source": [
    "Psychologists interested in sensory perception have long wondered how people compare two things mentally. For example, suppose that I presented you with two visual images in different orientations. Either they are identical images that have been rotated with respect to each other (e.g., a normal capital R and a capital R lying on its back) or they are mirror images of each other (e.g., R and R). Your task is to tell me as quickly as possible whether they are the same image or mirror images.This may sound easy, but it is not. I can measure both the accuracy of your response and its speed. I can also ask if the time it takes you to respond depends on how far the images have been rotated from one another. Below is an example of two stimuli presented on a computer screen.The cross in the center is the fixation point on which you should focus between trials.\n",
    "\n",
    "<img src=\"files/p1.png\" width=\"600\"/>\n",
    "\n",
    "\n",
    " \n",
    "The observer’s task is to press the letter S or the letter M as quickly as possi- ble, depending on whether you think these are the Same stimulus or Mirror images of each other.Then another pair of figures appears with the same instructions. I collected my own data from 600 trials that allowed for 10 different degrees of rotation in 20° steps. Having collected the data I now need to make sense of what I have.There are a number of interesting questions that I could ask of the data. \n",
    "\n",
    "I measured the time, in hundredths of a second, that the subject took to respond. This process was repeated over many randomly organized trials. \n",
    "\n",
    "An example of the data file is shown below, and you can download the full set of data in Project1.dat here (https://github.com/amanirad/Applied-inferential-statistics).\n",
    "\n",
    "<img src=\"files/p12.png\" width=\"600\"/>\n",
    "\n",
    "1. Plot ungrouped as well as grouped frequency distribution for these data.\n",
    "2. Create the histogram for the data using a reasonable number of intervals. Fit the probability density of each condition on the data.\n",
    "3. Plot ungrouped as well as grouped boxplot for these data.\n",
    "4. Discuss the statistical summary of the data in each condition in the form of statistics of mean, standard deviation, median, quantiles, etc.\n",
    "5. Does this data include outliers? Should they be removed? How? Remove them if necessary.\n",
    "6. Check the normality of the data using: \n",
    " 1. Find and plot a sampling distribution using a selection of samples such as 50 with sample size equals to 5 from the data in the table above.  \n",
    "    1. Compare the means and the standard deviations for the distribution in main data and the sampling distribution of the mean.\n",
    "    2. What would the Central Limit Theorem lead you to expect in this situation?\n",
    "    3. Do the data correspond to what you would predict?\n",
    "    4. In what way would the result differ if you had drawn more samples of size 5?\n",
    "    5. In what way would the result differ if you had drawn 50 samples of size 15?\n",
    " 2. Check out the QQ plot. \n",
    " 3. Use the appropriate statistical test and check its p-value and discuss it. What is the null hypothesis? Outline the hypothesis-testing procedure that you have just applied. Compute 95% confidence llimit on mean (or median).\n",
    "7. Is the data distribution symmetrical? Examine and discuss it using an appropriate statistical test.\n",
    "8. We are interested in seeing whether the required degree of mental rotation influenced reaction time. What is the best research hypothesis here? What is the null hypothesis? Choose the appropriate statistical tests to examine the hypothesis in details (post hoc tests, effect size measures and etc.) and report (interpret) on the results. \n"
   ]
  },
  {
   "cell_type": "code",
   "execution_count": null,
   "metadata": {},
   "outputs": [],
   "source": []
  },
  {
   "cell_type": "code",
   "execution_count": null,
   "metadata": {},
   "outputs": [],
   "source": []
  }
 ],
 "metadata": {
  "kernelspec": {
   "display_name": "R",
   "language": "R",
   "name": "ir"
  },
  "language_info": {
   "codemirror_mode": "r",
   "file_extension": ".r",
   "mimetype": "text/x-r-source",
   "name": "R",
   "pygments_lexer": "r",
   "version": "3.6.3"
  }
 },
 "nbformat": 4,
 "nbformat_minor": 2
}
