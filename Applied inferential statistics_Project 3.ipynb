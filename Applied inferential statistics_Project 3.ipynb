{
 "cells": [
  {
   "cell_type": "markdown",
   "metadata": {},
   "source": [
    "A researcher ran a study in which participants were required to recall a list of words. The conditions varied in terms of whether subjects simply counted the number of letters in a word, thought of a rhyming word, thought of an appropriate adjective, created images of the word, or was told to study the words for later recall. The dependent variable was the number of words recalled on a test trial. These data are shown below.\n",
    "\n",
    "<img src=\"files/p6.png\" width=\"600\"/>\n",
    "\n",
    "The data are found in https://github.com/amanirad/Applied-inferential-statistics.\n",
    "\n",
    "- Run an analysis of variance on these data.\n",
    "\n",
    "- Another aspect of the study is compared Younger and Older subjects on their ability to recall material in the face of instructions telling them that they would be asked to memorize the material for later recall—the Intentional group. (Presumably this task required a high level of processing.) The data follow, where the dependent variable is the number of items recalled. The data are found in https://github.com/amanirad/Applied-inferential-statistics.\n",
    "\n",
    "<img src=\"files/p7.png\" width=\"600\"/>\n",
    "\n",
    "    1. Run the analysis of variance comparing the means of these two groups.\n",
    "    2. Run an independent group’s t test on the data and compare the results to those you obtained in part (1).\n",
    "\n",
    "- Another way of looking at the data is to compare four groups of subjects. One group consisted of Younger subjects who were presented the words to be recalled in a condition that elicited a Low level of processing. A second group involved Younger subjects who were given a task requiring the Highest level of processing. The two other groups were Older subjects who were given tasks requiring either Low or High levels of processing. The data are found in https://github.com/amanirad/Applied-inferential-statistics.\n",
    "\n",
    "<img src=\"files/p8.png\" width=\"600\"/>\n",
    "\n",
    "    1. Run an analysis of variance on these data.\n",
    "    2. Now run a one-way analysis of variance on treatments 1 and 3 combined (n = 20) versus treatments 2 and 4 combined. What question are you answering?\n",
    "    3. Why might your answer to part (2) be difficult to interpret?\n",
    "    4. Now run an analysis of variance on treatments 1 and 2 combined compared with treatments 3 and 4 combined. What hypothesis are we testing?\n",
    "- Suppose that we collected additional data and had two more subjects in the Younger group, with scores of 13 and 15.\n",
    "     1. Rerun the analysis of variance. \n",
    "     2. Run an independent groups t test without pooling the variances.\n",
    "     3. Run an independent groups t test after pooling the variances.\n",
    "     "
   ]
  },
  {
   "cell_type": "code",
   "execution_count": null,
   "metadata": {},
   "outputs": [],
   "source": []
  }
 ],
 "metadata": {
  "kernelspec": {
   "display_name": "R",
   "language": "R",
   "name": "ir"
  },
  "language_info": {
   "codemirror_mode": "r",
   "file_extension": ".r",
   "mimetype": "text/x-r-source",
   "name": "R",
   "pygments_lexer": "r",
   "version": "3.6.3"
  }
 },
 "nbformat": 4,
 "nbformat_minor": 2
}
