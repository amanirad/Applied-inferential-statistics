{
 "cells": [
  {
   "cell_type": "markdown",
   "metadata": {},
   "source": [
    "# Part A. \n",
    "Much has been made of the concept of experimenter bias, which refers to the fact that even the most conscientious experimenters tend to collect data that come out in the desired direction (they see what they want to see). Suppose we use students as experimenters. All the experimenters are told that subjects will be given caffeine before the experiment, but one-half of the experimenters are told that we expect caffeine to lead to good performance and one-half are told that we expect it to lead to poor performance. The dependent variable is the number of simple arithmetic problems the subjects can solve in 2 minutes. The data obtained are:\n",
    "\n",
    "\n",
    "<img src=\"files/p22.png\" width=\"500\"/>\n",
    "\n",
    "- Based on these data, what can you conclude?\n",
    "- Construct 95% confidence limits on the true mean difference between two levels at the two times described above.\n",
    "- Calculate an effect size for the data."
   ]
  },
  {
   "cell_type": "code",
   "execution_count": null,
   "metadata": {},
   "outputs": [],
   "source": []
  },
  {
   "cell_type": "markdown",
   "metadata": {},
   "source": [
    "# Part B.\n",
    "The Thematic Apperception Test (TAT) presents participants with ambiguous pictures and asks them to tell a story about them. These stories can be scored in any number of ways. Three researchers asked mothers of 20 normal and 20 schizophrenic children to complete the TAT and then scored for the number of stories (out of 10) that exhibited a positive parent–child relationship. The data follow (https://github.com/amanirad/Applied-inferential-statistics):\n",
    "\n",
    "<img src=\"files/p3.png\" width=\"400\"/>\n",
    "\n",
    "- What would you assume to be the experimental hypothesis behind this study?\n",
    "- What would you conclude with respect to that hypothesis?\n",
    "- Why might it be smart to look at the variances of the two groups?\n",
    "- A significant difference might lead someone to suggest that poor parent–child relationships are the cause of schizophrenia. Why might this be a troublesome conclusion?\n",
    "- Calculate the 95% confidence limits on mean1-mean2 for the data. Calculate Cohen’s d^."
   ]
  },
  {
   "cell_type": "code",
   "execution_count": null,
   "metadata": {},
   "outputs": [],
   "source": []
  },
  {
   "cell_type": "markdown",
   "metadata": {},
   "source": [
    "# Part C. \n",
    "- Brescoll and Uhlmann (2008) investigated the hypothesis that when an observer views a videotape of a male expressing anger as opposed to sadness, the male in the anger condition is accorded higher status than the male in the sadness condition. For 19 males the mean and standard deviation (in parentheses) of the anger condition were 6.47 (2.25). For the 29 men in the sad condition the mean and standard deviation were 4.05 (1.61). Is this difference significant?\n",
    "- They found the reverse effect for females. They thought that perhaps this latter result was related to the way anger is judged in females compared to males. When they compared judgments of a video of a group of 41 females who expressed anger without an attribution for the source of anger, women’s perceived status had a mean and standard deviation of 3.40 (1.44). When the women on the video gave an external attribution for their anger (an employee stole something), their perceived status had a mean and standard deviation of 5.02 (1.66) with a standard deviation of 1.66.\n",
    "  - Is this difference significant?\n",
    "  - What is the effect size?\n",
    "  - The corresponding means and standard deviations (in parentheses) for males were 5.42 (1.63) in the no-attribution condition and 4.14 (2.46) in the external attribution condition. Do we have evidence of a double standard for males and females?"
   ]
  },
  {
   "cell_type": "code",
   "execution_count": null,
   "metadata": {},
   "outputs": [],
   "source": []
  },
  {
   "cell_type": "markdown",
   "metadata": {},
   "source": [
    "# Part D. \n",
    "- Two researchers reported on an intervention program for women with abusive partners. The study involved a 10-week intervention program and a three-year follow-up, and used an experimental (intervention) and control group. At the end of the 10-week intervention period the mean quality-of-life score for the intervention group was 5.03 with a standard deviation of 1.01 and a sample size of 135. For the control group the mean was 4.61 with a standard deviation of 1.13 and a sample size of 130. Do these data indicate that the intervention was successful in terms of the quality-of-life measure?\n",
    "- Calculate a confidence interval for the difference in group means. Then calculate a d-family measure of effect size for that difference.\n",
    "- Another way to investigate the effectiveness of the intervention described above would be to note that the mean quality-of-life score before the intervention was 4.47 with a standard deviation of 1.18. The quality-of-life score was 5.03 after the intervention with a standard deviation of 1.01. The sample size was 135 at each time. What do these data tell you about the effect of the intervention? (Note: You don’t have the difference scores, but assume that the standard deviation of difference scores was 1.30.)\n",
    "- For the control condition of the experiment the beginning and 10-week means were 4.32 and 4.61 with standard deviations of 0.98 and 1.13, respectively. The sample size was 130. Using the data from this group and the intervention group, plot the change in pre- to post-test scores for the two groups and interpret what you see. (If you wish the information, the standard deviation of the difference was 1.25.)"
   ]
  },
  {
   "cell_type": "code",
   "execution_count": null,
   "metadata": {},
   "outputs": [],
   "source": []
  }
 ],
 "metadata": {
  "kernelspec": {
   "display_name": "R",
   "language": "R",
   "name": "ir"
  },
  "language_info": {
   "codemirror_mode": "r",
   "file_extension": ".r",
   "mimetype": "text/x-r-source",
   "name": "R",
   "pygments_lexer": "r",
   "version": "3.6.3"
  }
 },
 "nbformat": 4,
 "nbformat_minor": 2
}
