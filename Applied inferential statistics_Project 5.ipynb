{
 "cells": [
  {
   "cell_type": "markdown",
   "metadata": {},
   "source": [
    "# Part A.\n",
    "\n",
    "Down’s syndrome is another problem that psychologists deal with. It has been proposed that mothers who give birth at older ages are more likely to have a child with Down’s syndrome. \n",
    "\n",
    "<img src=\"files/p4.png\" width=\"600\"/>\n",
    "\n",
    "The data are found in https://github.com/amanirad/Applied-inferential-statistics.\n",
    "\n",
    "- Plot the data below relating age to incidence.\n",
    "- Plot a scatter diagram for the percentage of Downs cases (Downs / Births) as a function of age.\n",
    "- Why would you not feel comfortable computing a Pearson correlation on the data?\n",
    "- One way to get around the problem you see is to convert the incidence of Down’s syndrome to ranked data. Replot the data using ranked incidence and calculate the correlation."
   ]
  },
  {
   "cell_type": "code",
   "execution_count": null,
   "metadata": {},
   "outputs": [],
   "source": []
  },
  {
   "cell_type": "markdown",
   "metadata": {},
   "source": [
    "# Part B. \n",
    "\n",
    "Two researchers found some interesting data on the consumption of alcohol and tobacco that illustrate an important statistical concept. Their data, taken from the Family Expenditure Survey of the British Department of Employment, follow. The dependent variables are the average weekly household expenditures for alcohol and tobacco in 11 regions of Great Britain.\n",
    "\n",
    "<img src=\"files/p5.png\" width=\"400\"/>\n",
    "\n",
    "The data are found in https://github.com/amanirad/Applied-inferential-statistics.\n",
    "\n",
    "- What is the relationship between these two variables?\n",
    "- Popular stereotypes have the Irish as heavy drinkers. Do the data support that belief?\n",
    "- What effect does the inclusion of Northern Ireland have on our results? (A scatterplot\n",
    "would be helpful.)"
   ]
  },
  {
   "cell_type": "code",
   "execution_count": null,
   "metadata": {},
   "outputs": [],
   "source": []
  },
  {
   "cell_type": "markdown",
   "metadata": {},
   "source": [
    "# Part C.\n",
    "\n",
    "One of the assumptions lying behind our use of regression is the assumption of homogeneity of variance in arrays. One way to examine the data for violations of this assumption is to calculate predicted values of Y and the corresponding residuals (Y – Y^). If you plot the residuals against the predicted values, you should see a more or less random collection of points. The vertical dispersion should not increase or decrease systematically as you move from right to left, nor should there be any other apparent pattern. Create the scatterplot for the data https://github.com/amanirad/Applied-inferential-statistics. Explain the assumption of homogeneity of variances in detail."
   ]
  },
  {
   "cell_type": "code",
   "execution_count": null,
   "metadata": {},
   "outputs": [],
   "source": []
  }
 ],
 "metadata": {
  "kernelspec": {
   "display_name": "R",
   "language": "R",
   "name": "ir"
  },
  "language_info": {
   "codemirror_mode": "r",
   "file_extension": ".r",
   "mimetype": "text/x-r-source",
   "name": "R",
   "pygments_lexer": "r",
   "version": "3.6.3"
  }
 },
 "nbformat": 4,
 "nbformat_minor": 2
}
