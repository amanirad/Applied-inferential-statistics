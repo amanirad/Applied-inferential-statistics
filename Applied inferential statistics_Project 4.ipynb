{
 "cells": [
  {
   "cell_type": "markdown",
   "metadata": {},
   "source": [
    "# Part A.\n",
    "\n",
    "In a study of memory processes, animals were tested in a one-trial avoidance-learning task. The animals were presented with a fear-producing stimulus on the learning trial as soon as they stepped across a line in the test chamber. The dependent variable was the time it took them to step across the line on the test trial. Three groups of animals differed in terms of the area in which they had electrodes implanted in their cortex (Neutral site, Area A, or Area B). Each group was further divided and given electrical stimulation 50, 100, or 150 milliseconds after crossing the line and being presented with the fear-inducing stimulus. If the brain area that was stimulated is involved in memory, stimulation would be expected to interfere with memory consolidation and retard learning of the avoidance response, and the animal should not show any hesitancy in recrossing the line. The data on latency to recross the line are as follows:\n",
    "\n",
    "<img src=\"files/p9.png\" width=\"600\"/>\n",
    "\n",
    "The data are found in https://github.com/amanirad/Applied-inferential-statistics.\n",
    "\n",
    "- Run the appropriate analysis of variance and state your conclusions and interpret the results.\n",
    "- Use the Bonferroni test to compare the neutral site to each of the other areas, ignoring the length of stimulation. \n",
    "- Use simple effects to examine the effect of delay of stimulation in area A for the data."
   ]
  },
  {
   "cell_type": "code",
   "execution_count": null,
   "metadata": {},
   "outputs": [],
   "source": []
  },
  {
   "cell_type": "markdown",
   "metadata": {},
   "source": [
    "# Part B. \n",
    "Three researchers ran a study comparing different treatments for posttraumatic stress disorder (PTSD). They used three groups (plus a waiting list control). One group received Stress Inoculation Therapy (SIT), another received a Prolonged Exposure (PE) treatment, and a third received standard Supportive Counseling (SC). All clients were measured at Pretreatment, Posttreatment, and a 3.5-month Follow-up. The data below closely approximate the data that they collected, and the dependent variable is a measure of PTSD.\n",
    "\n",
    "<img src=\"files/p10.png\" width=\"600\"/>\n",
    "\n",
    "- Run a repeated measures analysis of variance on these data. Draw the appropriate conclusions.\n",
    "- Run a mixed models analysis of variance, specifying an appropriate form for the covariance matrix, and compare the results with those you obtained above.\n",
    "- The following data come from above data with some observations deleted. (An entry of “999” represents a missing observation.)\n",
    "\n",
    "<img src=\"files/p11.png\" width=\"600\"/>\n",
    "\n",
    "    - Analyze these data using a standard repeated measures analysis of variance.\n",
    "    - How do your results differ from the results you found above.\n",
    "    - Now analyze the new data using a mixed models approach withan appropriate form for the covariance matrix. How do those results differ from the results you found above?\n"
   ]
  },
  {
   "cell_type": "code",
   "execution_count": null,
   "metadata": {},
   "outputs": [],
   "source": []
  }
 ],
 "metadata": {
  "kernelspec": {
   "display_name": "R",
   "language": "R",
   "name": "ir"
  },
  "language_info": {
   "codemirror_mode": "r",
   "file_extension": ".r",
   "mimetype": "text/x-r-source",
   "name": "R",
   "pygments_lexer": "r",
   "version": "3.6.3"
  }
 },
 "nbformat": 4,
 "nbformat_minor": 2
}
